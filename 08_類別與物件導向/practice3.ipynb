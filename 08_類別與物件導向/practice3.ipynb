{
 "cells": [
  {
   "cell_type": "markdown",
   "metadata": {},
   "source": [
    "### Please define a Shape class  as following and define Circle Class and Rectangle Class to inherit from Shape. In Circle and Rectange Class, please add function cal_area to calculate area and add  function cal_perimeter to calculate perimeter."
   ]
  },
  {
   "cell_type": "code",
   "execution_count": 11,
   "metadata": {},
   "outputs": [
    {
     "name": "stdout",
     "output_type": "stream",
     "text": [
      "314.0\n",
      "62.800000000000004\n",
      "black\n",
      "white\n",
      "============\n",
      "10\n",
      "14\n",
      "black\n",
      "yellow\n"
     ]
    }
   ],
   "source": [
    "class Shape():\n",
    "    def __init__(self, color='black', filled=False): # deflaut\n",
    "        self.__color = color\n",
    "        self.__filled = filled\n",
    "    def cal_area():\n",
    "        pass\n",
    "    def cal_perimeter():\n",
    "        pass\n",
    "    \n",
    "    def get_color(self):\n",
    "        return self.__color\n",
    " \n",
    "    def set_color(self, color):\n",
    "        self.__color = color\n",
    " \n",
    "    def get_filled(self):\n",
    "        return self.__filled\n",
    " \n",
    "    def set_filled(self, filled):\n",
    "        self.__filled = filled\n",
    "    \n",
    "    \n",
    "class Circle(Shape):\n",
    "    def __init__(self, r):\n",
    "        super().__init__()\n",
    "        self.__r = r\n",
    "        \n",
    "    def cal_area(self):\n",
    "        return self.__r*self.__r*3.14\n",
    "    \n",
    "    def cal_perimeter(self):\n",
    "        return 2*self.__r*3.14\n",
    "\n",
    "class Rectangle(Shape):\n",
    "    def __init__(self, h, w):\n",
    "        super().__init__()\n",
    "        \n",
    "        self.__w = w\n",
    "        self.__h = h\n",
    "        \n",
    "    def cal_area(self):\n",
    "        return self.__w * self.__h\n",
    "    \n",
    "    def cal_perimeter(self):\n",
    "        return 2*(self.__h + self.__w)\n",
    "\n",
    "\n",
    "c1 = Circle(10)\n",
    "print(c1.cal_area())\n",
    "print(c1.cal_perimeter())\n",
    "print(c1.get_color())\n",
    "c1.set_color('white')\n",
    "print(c1.get_color())\n",
    "\n",
    "\n",
    "print('============')\n",
    "\n",
    "r1 = Rectangle(2, 5)\n",
    "print(r1.cal_area())\n",
    "print(r1.cal_perimeter())\n",
    "print(r1.get_color())\n",
    "r1.set_color('yellow')\n",
    "print(r1.get_color())\n",
    "\n"
   ]
  },
  {
   "cell_type": "code",
   "execution_count": 3,
   "metadata": {},
   "outputs": [
    {
     "ename": "NameError",
     "evalue": "name '__str__' is not defined",
     "output_type": "error",
     "traceback": [
      "\u001b[1;31m---------------------------------------------------------------------------\u001b[0m",
      "\u001b[1;31mNameError\u001b[0m                                 Traceback (most recent call last)",
      "\u001b[1;32m<ipython-input-3-85ff81c01987>\u001b[0m in \u001b[0;36m<module>\u001b[1;34m\u001b[0m\n\u001b[0;32m      1\u001b[0m \u001b[0mstr\u001b[0m\u001b[1;33m(\u001b[0m\u001b[1;36m123\u001b[0m\u001b[1;33m)\u001b[0m\u001b[1;33m\u001b[0m\u001b[1;33m\u001b[0m\u001b[0m\n\u001b[0;32m      2\u001b[0m \u001b[1;31m# help(str)\u001b[0m\u001b[1;33m\u001b[0m\u001b[1;33m\u001b[0m\u001b[1;33m\u001b[0m\u001b[0m\n\u001b[1;32m----> 3\u001b[1;33m \u001b[0m__str__\u001b[0m\u001b[1;33m(\u001b[0m\u001b[1;33m)\u001b[0m\u001b[1;33m\u001b[0m\u001b[1;33m\u001b[0m\u001b[0m\n\u001b[0m",
      "\u001b[1;31mNameError\u001b[0m: name '__str__' is not defined"
     ]
    }
   ],
   "source": [
    "str(123)\n",
    "# help(str)\n",
    "__str__()"
   ]
  }
 ],
 "metadata": {
  "kernelspec": {
   "display_name": "Python 3",
   "language": "python",
   "name": "python3"
  },
  "language_info": {
   "codemirror_mode": {
    "name": "ipython",
    "version": 3
   },
   "file_extension": ".py",
   "mimetype": "text/x-python",
   "name": "python",
   "nbconvert_exporter": "python",
   "pygments_lexer": "ipython3",
   "version": "3.7.6"
  }
 },
 "nbformat": 4,
 "nbformat_minor": 4
}
