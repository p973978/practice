{
 "cells": [
  {
   "cell_type": "markdown",
   "metadata": {},
   "source": [
    "## Write a Python program that takes a text file as input and returns the number of words in words.txt  \n",
    "Note: Some words can be separated by a comma with no space."
   ]
  },
  {
   "cell_type": "code",
   "execution_count": 5,
   "metadata": {},
   "outputs": [
    {
     "data": {
      "text/plain": [
       "438"
      ]
     },
     "execution_count": 5,
     "metadata": {},
     "output_type": "execute_result"
    }
   ],
   "source": [
    "f = open('english_new.txt','r')\n",
    "text = f.read()\n",
    "len(text.split())"
   ]
  },
  {
   "cell_type": "code",
   "execution_count": 29,
   "metadata": {},
   "outputs": [
    {
     "name": "stdout",
     "output_type": "stream",
     "text": [
      "428\n"
     ]
    }
   ],
   "source": [
    "with open('english_new.txt','r') as f:\n",
    "    data = f.read()\n",
    "    data.replace(',', ' ')\n",
    "    print(len(data.split(' ')))"
   ]
  },
  {
   "cell_type": "markdown",
   "metadata": {},
   "source": [
    "## Write a Python program to count the number of lines in a text file."
   ]
  },
  {
   "cell_type": "code",
   "execution_count": 7,
   "metadata": {},
   "outputs": [
    {
     "name": "stdout",
     "output_type": "stream",
     "text": [
      "11\n"
     ]
    }
   ],
   "source": [
    "f = open('C:/Users/User/Desktop/PYTHON/09_例外處理、輸入輸出/english_new.txt','r')\n",
    "count = 0\n",
    "text = f.read()\n",
    "Colist = text.split(\"\\n\")\n",
    "\n",
    "for i in Colist:\n",
    "    if i:\n",
    "        count += 1\n",
    "\n",
    "print(count)\n",
    "## english news.txt"
   ]
  },
  {
   "cell_type": "code",
   "execution_count": 28,
   "metadata": {},
   "outputs": [
    {
     "name": "stdout",
     "output_type": "stream",
     "text": [
      "Number of lines in the file: 11\n"
     ]
    }
   ],
   "source": [
    "def file_lengthy(fname):\n",
    "    f = open(fname, 'r')\n",
    "    contents = f.readlines()\n",
    "    return len(contents)\n",
    "result = file_lengthy('english_new.txt')\n",
    "print('Number of lines in the file: {}'.format(result))"
   ]
  },
  {
   "cell_type": "markdown",
   "metadata": {},
   "source": [
    "# Write a Python program to write a list content to a file."
   ]
  },
  {
   "cell_type": "code",
   "execution_count": 15,
   "metadata": {},
   "outputs": [],
   "source": [
    "color = ['Red', 'Green', 'White', 'Black', 'Pink', 'Yellow']\n",
    "f = open('color_write.txt','w')\n",
    "for i in color:\n",
    "    f.write(i+', ')\n",
    "    \n",
    "#f.write(color[i])\n",
    "f.close()\n",
    "## color_write.txt"
   ]
  },
  {
   "cell_type": "code",
   "execution_count": 12,
   "metadata": {},
   "outputs": [
    {
     "name": "stdout",
     "output_type": "stream",
     "text": [
      "abcdef\n"
     ]
    }
   ],
   "source": [
    "a ='abc'\n",
    "b = 'def'\n",
    "print(a+b)"
   ]
  },
  {
   "cell_type": "code",
   "execution_count": 21,
   "metadata": {},
   "outputs": [],
   "source": [
    "color = ['Red', 'Green', 'White', 'Black', 'Pink', 'Yellow']\n",
    "with open('color_write.txt','w') as myFile:\n",
    "    for c in color:\n",
    "        myFile.write(c + '\\n')"
   ]
  },
  {
   "cell_type": "markdown",
   "metadata": {},
   "source": [
    "# Write a python program to find the longest words."
   ]
  },
  {
   "cell_type": "code",
   "execution_count": 20,
   "metadata": {},
   "outputs": [
    {
     "name": "stdout",
     "output_type": "stream",
     "text": [
      "employee-productivity\n"
     ]
    }
   ],
   "source": [
    "def longest_word(filename):\n",
    "    longest_word = ''\n",
    "    max_long = 0\n",
    "    with open(filename, 'r') as f:\n",
    "        contents = f.read().replace('\\n',' ')\n",
    "        words_list = contents.split(' ')\n",
    "        for i in words_list:\n",
    "            if len(i) > max_long:\n",
    "                max_long = len(i)\n",
    "                longest_word = i\n",
    "    return longest_word\n",
    "\n",
    "print(longest_word('english_new.txt'))"
   ]
  },
  {
   "cell_type": "code",
   "execution_count": null,
   "metadata": {},
   "outputs": [],
   "source": []
  }
 ],
 "metadata": {
  "kernelspec": {
   "display_name": "Python 3",
   "language": "python",
   "name": "python3"
  },
  "language_info": {
   "codemirror_mode": {
    "name": "ipython",
    "version": 3
   },
   "file_extension": ".py",
   "mimetype": "text/x-python",
   "name": "python",
   "nbconvert_exporter": "python",
   "pygments_lexer": "ipython3",
   "version": "3.7.6"
  }
 },
 "nbformat": 4,
 "nbformat_minor": 4
}
