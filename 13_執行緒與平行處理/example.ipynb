{
 "cells": [
  {
   "cell_type": "markdown",
   "metadata": {},
   "source": [
    "# Open Process"
   ]
  },
  {
   "cell_type": "code",
   "execution_count": 1,
   "metadata": {},
   "outputs": [
    {
     "name": "stdout",
     "output_type": "stream",
     "text": [
      "info of note process: <subprocess.Popen object at 0x000001E0BCE9EBC8>\n"
     ]
    }
   ],
   "source": [
    "from subprocess import Popen\n",
    "note = Popen('notepad.exe')\n",
    "print('info of note process: {}'.format(note))"
   ]
  },
  {
   "cell_type": "markdown",
   "metadata": {},
   "source": [
    "# Thread"
   ]
  },
  {
   "cell_type": "code",
   "execution_count": 10,
   "metadata": {},
   "outputs": [
    {
     "name": "stdout",
     "output_type": "stream",
     "text": [
      "This is an added Thread, number is <Thread(Thread-9, started 2104)>\n",
      "6\n",
      "\n",
      "\n",
      "\n",
      "[<_MainThread(MainThread, started 6032)>, <Thread(Thread-4, started daemon 7712)>, <Heartbeat(Thread-5, started daemon 16012)>, <HistorySavingThread(IPythonHistorySavingThread, started 4448)>, <ParentPollerWindows(Thread-3, started daemon 8524)>]\n",
      "\n",
      "\n",
      "<_MainThread(MainThread, started 6032)>\n"
     ]
    }
   ],
   "source": [
    "import threading\n",
    "\n",
    "def thread_job():\n",
    "\n",
    "\n",
    "    # 把目前的 thread 顯示出來看看\n",
    "    print(\"This is an added Thread, number is {}\\n\"\\\n",
    "          .format(threading.current_thread()))\n",
    "\n",
    "def main():\n",
    "    # 添加一個 thread \n",
    "    added_thread = threading.Thread(target=thread_job)\n",
    "    # 執行 thread\n",
    "    added_thread.start() \n",
    "    # This is an added Thread, number is <Thread(Thread-1, started 123145466363904)>\n",
    "    # 看目前有幾個 thread\n",
    "    print(threading.active_count()) # 2\n",
    "    print('\\n')\n",
    "    # 把所有的 thread 顯示出來看看\n",
    "    print(threading.enumerate()) \n",
    "    # [<_MainThread(MainThread, started 140736627270592)>,\n",
    "    # <Thread(Thread-1, started 123145466363904)>]\n",
    "    print('\\n')\n",
    "    # 把目前的 thread 顯示出來看看\n",
    "    print(threading.current_thread()) \n",
    "    #<_MainThread(MainThread, started 140736627270592)>\n",
    "\n",
    "if __name__ == '__main__':\n",
    "    main()"
   ]
  },
  {
   "cell_type": "code",
   "execution_count": 8,
   "metadata": {},
   "outputs": [
    {
     "name": "stdout",
     "output_type": "stream",
     "text": [
      "Child thread:Main thread: 0\n",
      " 0\n",
      "Main thread: 1\n",
      "Child thread: 1\n",
      "Main thread: 2\n",
      "Child thread: 2\n",
      "Child thread: 3\n",
      "Child thread: 4\n",
      "Done.\n"
     ]
    }
   ],
   "source": [
    "import threading\n",
    "import time\n",
    "\n",
    "# 子執行緒的工作函數\n",
    "def job():\n",
    "    for i in range(5):\n",
    "        print(\"Child thread:\", i)\n",
    "        time.sleep(1)\n",
    "\n",
    "# 建立一個子執行緒\n",
    "t = threading.Thread(target = job)\n",
    "\n",
    "# 執行該子執行緒\n",
    "t.start()\n",
    "\n",
    "# 主執行緒繼續執行自己的工作\n",
    "for i in range(3):\n",
    "    print(\"Main thread:\", i)\n",
    "    time.sleep(1)\n",
    "\n",
    "# 等待 t 這個子執行緒結束\n",
    "t.join()\n",
    "\n",
    "print(\"Done.\")"
   ]
  },
  {
   "cell_type": "code",
   "execution_count": null,
   "metadata": {},
   "outputs": [],
   "source": []
  }
 ],
 "metadata": {
  "kernelspec": {
   "display_name": "Python 3",
   "language": "python",
   "name": "python3"
  },
  "language_info": {
   "codemirror_mode": {
    "name": "ipython",
    "version": 3
   },
   "file_extension": ".py",
   "mimetype": "text/x-python",
   "name": "python",
   "nbconvert_exporter": "python",
   "pygments_lexer": "ipython3",
   "version": "3.7.6"
  }
 },
 "nbformat": 4,
 "nbformat_minor": 4
}
