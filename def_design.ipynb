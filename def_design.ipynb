{
 "cells": [
  {
   "cell_type": "code",
   "execution_count": 9,
   "metadata": {},
   "outputs": [
    {
     "output_type": "stream",
     "name": "stdout",
     "text": "33,3,8,"
    }
   ],
   "source": [
    "#絕對值\n",
    "def absolute(n):\n",
    "    if n < 0:\n",
    "        n = -n\n",
    "    return n\n",
    "x = [-33,3,-8]\n",
    "y=map(absolute,x)\n",
    "for i in y:\n",
    "    print(i,end=',')\n"
   ]
  },
  {
   "cell_type": "code",
   "execution_count": null,
   "metadata": {},
   "outputs": [],
   "source": [
    "#回傳最大值\n",
    "def mymax(n1,n2):\n",
    "    if n1 > n2:\n",
    "        return n1\n",
    "    else:\n",
    "        return n2\n",
    "\n",
    "print(mymax(32,55))"
   ]
  },
  {
   "cell_type": "code",
   "execution_count": 11,
   "metadata": {},
   "outputs": [
    {
     "output_type": "stream",
     "name": "stdout",
     "text": "654321"
    }
   ],
   "source": [
    "#回傳倒數\n",
    "def reverse(n):\n",
    "    while n != 0:\n",
    "        r = n % 10 #餘數，取最後一個數\n",
    "        print(r,end=\"\")\n",
    "        n //= 10 #只顯示整除數\n",
    "x = eval(input(\"請輸入1個數值 = \"))\n",
    "reverse(x)"
   ]
  },
  {
   "cell_type": "code",
   "execution_count": 13,
   "metadata": {},
   "outputs": [
    {
     "output_type": "stream",
     "name": "stdout",
     "text": "6\n25\n"
    }
   ],
   "source": [
    "#設計可加減乘除的函數\n",
    "def add(x,y):\n",
    "    return x + y\n",
    "def sub(x,y):\n",
    "    return x - y\n",
    "def mul(x,y):\n",
    "    return x * y\n",
    "def div(x,y):\n",
    "    return x / y\n",
    "\n",
    "\n",
    "\n",
    "while True: \n",
    "    num1 = int(input('請輸入第1個數字 = '))\n",
    "    num2 = int(input('請輸入第2個數字 = '))\n",
    "    opr = input(\"請輸入運算子(+,-,*,/) : \")\n",
    "\n",
    "    if opr == '+':\n",
    "        print(add(num1,num2))\n",
    "    elif opr == '-':\n",
    "        print(sub(num1,num2))\n",
    "    elif opr == '*':\n",
    "        print(mul(num1,num2))\n",
    "    else:\n",
    "        print(div(num1,num2))\n",
    "    continu = input('請輸入是否繼續(y):')\n",
    "    if continu == 'y' or continu == 'Y':\n",
    "        continue\n",
    "    else:\n",
    "        break"
   ]
  },
  {
   "cell_type": "code",
   "execution_count": 14,
   "metadata": {},
   "outputs": [
    {
     "output_type": "stream",
     "name": "stdout",
     "text": "攝氏溫度\t華氏溫度\t|\t華氏溫度\t攝氏溫度\n=================================================================\n   21\t\t 69.80\t\t|\t   70\t\t 21.11\n   22\t\t 71.60\t\t|\t   75\t\t 23.89\n   23\t\t 73.40\t\t|\t   80\t\t 26.67\n   24\t\t 75.20\t\t|\t   85\t\t 29.44\n   25\t\t 77.00\t\t|\t   90\t\t 32.22\n   26\t\t 78.80\t\t|\t   95\t\t 35.00\n   27\t\t 80.60\t\t|\t  100\t\t 37.78\n   28\t\t 82.40\t\t|\t  105\t\t 40.56\n   29\t\t 84.20\t\t|\t  110\t\t 43.33\n   30\t\t 86.00\t\t|\t  115\t\t 46.11\n"
    }
   ],
   "source": [
    "# 攝氏轉華氏\n",
    "def CtoF(c):\n",
    "    f = (9.0/5.0) * c + 32\n",
    "    return f\n",
    "def FtoC(f):\n",
    "    c = (5.0/9.0) * (f - 32)\n",
    "    return c\n",
    "\n",
    "cel = 21\n",
    "fra = 70\n",
    "\n",
    "print(\"攝氏溫度\\t華氏溫度\\t|\\t華氏溫度\\t攝氏溫度\")\n",
    "print(\"=================================================================\")\n",
    "for i in range(10):\n",
    "    print(\"  %3d\\t\\t%6.2f\\t\\t|\\t  %3d\\t\\t%6.2f\" % (cel,CtoF(cel),fra,FtoC(fra)))\n",
    "    # \\t tab , %3d 整數空3格\n",
    "    cel += 1\n",
    "    fra += 5"
   ]
  },
  {
   "cell_type": "code",
   "execution_count": 15,
   "metadata": {},
   "outputs": [
    {
     "output_type": "stream",
     "name": "stdout",
     "text": "i      PI \n================\n    1   4.00000\n 1001   3.14259\n 2001   3.14209\n 3001   3.14193\n 4001   3.14184\n 5001   3.14179\n 6001   3.14176\n 7001   3.14174\n 8001   3.14172\n 9001   3.14170\n"
    }
   ],
   "source": [
    "# 布來妮茲公式\n",
    "def pi(n):\n",
    "    p = 0\n",
    "    for i in range(1,n+1, 1):\n",
    "        p += 4 *((-1)**(i+1)/(2*i-1))\n",
    "    return p\n",
    "\n",
    "print(\"  i      PI \")\n",
    "print(\"================\")\n",
    "for i in range(1, 10000, 1000):\n",
    "    print(\"%5d   %1.5f\" % (i, pi(i)))"
   ]
  },
  {
   "cell_type": "code",
   "execution_count": 18,
   "metadata": {},
   "outputs": [
    {
     "output_type": "stream",
     "name": "stdout",
     "text": "5 6 7\n這是三角形的邊長\n三角形面積是 :   14.697\n"
    }
   ],
   "source": [
    "#三角形判斷及面積計算\n",
    "def isTriangle(s1, s2, s3):\n",
    "    if s1 + s2 < s3:\n",
    "        return False\n",
    "    if s1 + s3 < s2:\n",
    "        return False\n",
    "    if s2 + s3 < s1:\n",
    "        return False\n",
    "    return True\n",
    "\n",
    "def area(s1, s2, s3):\n",
    "    p = (s1 + s2 + s3) / 2\n",
    "    return (p * (p - s1) * (p - s2) * (p - s3)) ** 0.5\n",
    "\n",
    "d1, d2, d3  = eval(input(\"請輸入3個邊長 : \"))\n",
    "print(d1, d2, d3)\n",
    "if isTriangle(d1, d2, d3):\n",
    "    print(\"這是三角形的邊長\")\n",
    "    print(\"三角形面積是 : %8.3f\" % area(d1,d2,d3))\n",
    "else:\n",
    "    print(\"這不是三角形的邊長\")"
   ]
  },
  {
   "cell_type": "code",
   "execution_count": 21,
   "metadata": {},
   "outputs": [
    {
     "output_type": "stream",
     "name": "stdout",
     "text": "n:223432\nr:2\nn:22343\nr:2\nn:2234\nr:3\nn:223\nr:4\nn:22\nr:3\nn:2\nr:2\nn:0\nr:2\n這是回文數\n"
    }
   ],
   "source": [
    "# 回文數\n",
    "def reverse(n):\n",
    "    reverseN = 0\n",
    "    while n != 0:\n",
    "        r = n % 10\n",
    "        reverseN = reverseN * 10 + r\n",
    "        n //= 10\n",
    "        print('n:{}'.format(n))\n",
    "        print('r:{}'.format(r))\n",
    "    return reverseN \n",
    "\n",
    "def isPalindrome(n):\n",
    "    return n == reverse(n)\n",
    "        \n",
    "x = eval(input(\"請輸入1個數值 = \"))\n",
    "if isPalindrome(x):\n",
    "    print(\"這是回文數\")\n",
    "else:\n",
    "    print(\"這不是回文數\")"
   ]
  },
  {
   "cell_type": "code",
   "execution_count": 22,
   "metadata": {},
   "outputs": [
    {
     "output_type": "stream",
     "name": "stdout",
     "text": "這個  5  吋Pizza所加配料如下\n---  海鮮\n這個  7  吋Pizza所加配料如下\n---  蔬菜\n---  辛香料\n---  香菇\n---  起司\n---  海鮮\n"
    }
   ],
   "source": [
    "# ex11_11.py\n",
    "def make_pizza(pizza_size, *toppings):\n",
    "    # *args 輸入多重函數\n",
    "    # 列出製作pizza的配料\n",
    "    print(\"這個 \", pizza_size, \" 吋Pizza所加配料如下\")\n",
    "    for topping in toppings:\n",
    "        print(\"--- \", topping)\n",
    "\n",
    "make_pizza(5, '海鮮')\n",
    "make_pizza(7, '蔬菜', '辛香料', '香菇', '起司','海鮮')\n"
   ]
  },
  {
   "cell_type": "code",
   "execution_count": 29,
   "metadata": {},
   "outputs": [
    {
     "output_type": "stream",
     "name": "stdout",
     "text": "saabaas 是回文字串\n"
    }
   ],
   "source": [
    "# 回文字串\n",
    "def isPalindrome(s):\n",
    "    if len(s) <= 1:\n",
    "        return True\n",
    "    elif s[0] != s[len(s)-1]:\n",
    "        return False\n",
    "    else:\n",
    "        return isPalindrome(s[1:len(s)-1])\n",
    "\n",
    "\n",
    "string = input(\"請輸入字串 : \")\n",
    "if isPalindrome(string):\n",
    "    print(\"%s 是回文字串\" % string)\n",
    "else:\n",
    "    print(\"%s 不是回文字串\" % string)\n"
   ]
  },
  {
   "cell_type": "code",
   "execution_count": 30,
   "metadata": {},
   "outputs": [
    {
     "output_type": "execute_result",
     "data": {
      "text/plain": "'aabaa'"
     },
     "metadata": {},
     "execution_count": 30
    }
   ],
   "source": [
    "s = 'saabaas'\n",
    "s[1:len(s)-1]"
   ]
  },
  {
   "cell_type": "code",
   "execution_count": 31,
   "metadata": {},
   "outputs": [
    {
     "output_type": "stream",
     "name": "stdout",
     "text": "italicboldHELLO! IPHONEbolditalic\n"
    }
   ],
   "source": [
    "# ex11_17.py\n",
    "def upper(func):                # 大寫裝飾器\n",
    "    def newFunc(args):\n",
    "        oldresult = func(args)\n",
    "        newresult = oldresult.upper()\n",
    "        return newresult\n",
    "    return newFunc\n",
    "def bold(func):                 # 加粗體字串裝飾器\n",
    "    def wrapper(args):\n",
    "        return 'bold' + func(args) + 'bold'\n",
    "    return wrapper\n",
    "def italic(func):               # 加斜體字串裝飾器\n",
    "    def wrapper(args):\n",
    "        return 'italic' + func(args) + 'italic'\n",
    "    return wrapper\n",
    "@italic\n",
    "@bold                           # 設定加粗體字串裝飾器\n",
    "@upper                          # 設定大寫裝飾器\n",
    "def greeting(string):           # 問候函數\n",
    "    return string\n",
    "\n",
    "print(greeting('Hello! iPhone'))"
   ]
  },
  {
   "cell_type": "code",
   "execution_count": 32,
   "metadata": {},
   "outputs": [
    {
     "output_type": "stream",
     "name": "stdout",
     "text": "['1', '2', '3', '4', '5']\n"
    }
   ],
   "source": [
    "# 將數字轉成字串\n",
    "x = [1,2,3,4,5]\n",
    "strX = list(map(str, x))\n",
    "print(strX)"
   ]
  },
  {
   "cell_type": "code",
   "execution_count": null,
   "metadata": {},
   "outputs": [],
   "source": []
  }
 ],
 "metadata": {
  "language_info": {
   "codemirror_mode": {
    "name": "ipython",
    "version": 3
   },
   "file_extension": ".py",
   "mimetype": "text/x-python",
   "name": "python",
   "nbconvert_exporter": "python",
   "pygments_lexer": "ipython3",
   "version": "3.7.4-final"
  },
  "orig_nbformat": 2,
  "kernelspec": {
   "name": "python3",
   "display_name": "Python 3"
  }
 },
 "nbformat": 4,
 "nbformat_minor": 2
}